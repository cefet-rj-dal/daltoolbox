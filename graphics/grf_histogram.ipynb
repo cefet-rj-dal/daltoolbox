{
 "cells": [
  {
   "cell_type": "code",
   "execution_count": 1,
   "metadata": {},
   "outputs": [
    {
     "name": "stderr",
     "output_type": "stream",
     "text": [
      "Loading required package: daltoolbox\n",
      "\n",
      "Registered S3 method overwritten by 'quantmod':\n",
      "  method            from\n",
      "  as.zoo.data.frame zoo \n",
      "\n",
      "\n",
      "Attaching package: ‘daltoolbox’\n",
      "\n",
      "\n",
      "The following object is masked from ‘package:base’:\n",
      "\n",
      "    transform\n",
      "\n",
      "\n"
     ]
    }
   ],
   "source": [
    "# DAL ToolBox\n",
    "# version 1.0.767\n",
    "\n",
    "source(\"https://raw.githubusercontent.com/cefet-rj-dal/daltoolbox/main/jupyter.R\")\n",
    "\n",
    "#loading DAL\n",
    "load_library(\"daltoolbox\") "
   ]
  },
  {
   "cell_type": "code",
   "execution_count": 2,
   "metadata": {},
   "outputs": [
    {
     "name": "stderr",
     "output_type": "stream",
     "text": [
      "Loading required package: ggplot2\n",
      "\n",
      "Loading required package: RColorBrewer\n",
      "\n"
     ]
    }
   ],
   "source": [
    "load_library(\"ggplot2\")\n",
    "load_library(\"RColorBrewer\")\n",
    "\n",
    "#color palette\n",
    "colors <- brewer.pal(4, 'Set1')\n",
    "\n",
    "# setting the font size for all charts\n",
    "font <- theme(text = element_text(size=16))"
   ]
  },
  {
   "cell_type": "markdown",
   "metadata": {},
   "source": [
    "## Examples using data distribution\n",
    "The following examples use random variables so that different data distribution can be better viewed."
   ]
  },
  {
   "cell_type": "code",
   "execution_count": 3,
   "metadata": {},
   "outputs": [
    {
     "data": {
      "text/html": [
       "<table class=\"dataframe\">\n",
       "<caption>A data.frame: 6 × 3</caption>\n",
       "<thead>\n",
       "\t<tr><th></th><th scope=col>exponential</th><th scope=col>uniform</th><th scope=col>normal</th></tr>\n",
       "\t<tr><th></th><th scope=col>&lt;dbl&gt;</th><th scope=col>&lt;dbl&gt;</th><th scope=col>&lt;dbl&gt;</th></tr>\n",
       "</thead>\n",
       "<tbody>\n",
       "\t<tr><th scope=row>1</th><td>0.09155231</td><td>2.612075</td><td>5.085059</td></tr>\n",
       "\t<tr><th scope=row>2</th><td>2.01816829</td><td>3.294267</td><td>4.457824</td></tr>\n",
       "\t<tr><th scope=row>3</th><td>0.58176393</td><td>2.636868</td><td>4.982670</td></tr>\n",
       "\t<tr><th scope=row>4</th><td>0.12511421</td><td>3.344929</td><td>6.220225</td></tr>\n",
       "\t<tr><th scope=row>5</th><td>0.02524745</td><td>2.573040</td><td>5.234677</td></tr>\n",
       "\t<tr><th scope=row>6</th><td>0.31813066</td><td>2.620384</td><td>3.070939</td></tr>\n",
       "</tbody>\n",
       "</table>\n"
      ],
      "text/latex": [
       "A data.frame: 6 × 3\n",
       "\\begin{tabular}{r|lll}\n",
       "  & exponential & uniform & normal\\\\\n",
       "  & <dbl> & <dbl> & <dbl>\\\\\n",
       "\\hline\n",
       "\t1 & 0.09155231 & 2.612075 & 5.085059\\\\\n",
       "\t2 & 2.01816829 & 3.294267 & 4.457824\\\\\n",
       "\t3 & 0.58176393 & 2.636868 & 4.982670\\\\\n",
       "\t4 & 0.12511421 & 3.344929 & 6.220225\\\\\n",
       "\t5 & 0.02524745 & 2.573040 & 5.234677\\\\\n",
       "\t6 & 0.31813066 & 2.620384 & 3.070939\\\\\n",
       "\\end{tabular}\n"
      ],
      "text/markdown": [
       "\n",
       "A data.frame: 6 × 3\n",
       "\n",
       "| <!--/--> | exponential &lt;dbl&gt; | uniform &lt;dbl&gt; | normal &lt;dbl&gt; |\n",
       "|---|---|---|---|\n",
       "| 1 | 0.09155231 | 2.612075 | 5.085059 |\n",
       "| 2 | 2.01816829 | 3.294267 | 4.457824 |\n",
       "| 3 | 0.58176393 | 2.636868 | 4.982670 |\n",
       "| 4 | 0.12511421 | 3.344929 | 6.220225 |\n",
       "| 5 | 0.02524745 | 2.573040 | 5.234677 |\n",
       "| 6 | 0.31813066 | 2.620384 | 3.070939 |\n",
       "\n"
      ],
      "text/plain": [
       "  exponential uniform  normal  \n",
       "1 0.09155231  2.612075 5.085059\n",
       "2 2.01816829  3.294267 4.457824\n",
       "3 0.58176393  2.636868 4.982670\n",
       "4 0.12511421  3.344929 6.220225\n",
       "5 0.02524745  2.573040 5.234677\n",
       "6 0.31813066  2.620384 3.070939"
      ]
     },
     "metadata": {},
     "output_type": "display_data"
    }
   ],
   "source": [
    "# example: dataset to be plotted  \n",
    "example <- data.frame(exponential = rexp(100000, rate = 1), \n",
    "                     uniform = runif(100000, min = 2.5, max = 3.5), \n",
    "                     normal = rnorm(100000, mean=5))\n",
    "head(example)"
   ]
  },
  {
   "cell_type": "markdown",
   "metadata": {},
   "source": [
    "## Histogram\n",
    "\n",
    "Visualize the distribution of a single continuous variable by dividing the x axis into bins and counting the number of observations in each bin. Histograms (geom_histogram()) display the counts with bars.\n",
    "More information: ?geom_histogram (R documentation)"
   ]
  },
  {
   "cell_type": "code",
   "execution_count": 4,
   "metadata": {},
   "outputs": [
    {
     "name": "stderr",
     "output_type": "stream",
     "text": [
      "Loading required package: dplyr\n",
      "\n",
      "\n",
      "Attaching package: ‘dplyr’\n",
      "\n",
      "\n",
      "The following objects are masked from ‘package:stats’:\n",
      "\n",
      "    filter, lag\n",
      "\n",
      "\n",
      "The following objects are masked from ‘package:base’:\n",
      "\n",
      "    intersect, setdiff, setequal, union\n",
      "\n",
      "\n",
      "Using  as id variables\n",
      "\n"
     ]
    },
    {
     "data": {
      "image/png": "[encoded data removed]",
      "text/plain": [
       "plot without title"
      ]
     },
     "metadata": {
      "image/png": {
       "height": 240,
       "width": 300
      }
     },
     "output_type": "display_data"
    }
   ],
   "source": [
    "load_library(\"dplyr\")\n",
    "\n",
    "grf <- plot_hist(example |> select(exponential), \n",
    "                  label_x = \"exponential\", color=colors[1]) + font\n",
    "options(repr.plot.width=5, repr.plot.height=4)\n",
    "plot(grf)"
   ]
  },
  {
   "cell_type": "markdown",
   "metadata": {},
   "source": [
    "## Arrangement of graphs\n",
    "\n",
    "Function $grid.arrange$ is used to position previously computed charts"
   ]
  },
  {
   "cell_type": "code",
   "execution_count": 5,
   "metadata": {},
   "outputs": [
    {
     "name": "stderr",
     "output_type": "stream",
     "text": [
      "Using  as id variables\n",
      "\n",
      "Using  as id variables\n",
      "\n",
      "Using  as id variables\n",
      "\n"
     ]
    }
   ],
   "source": [
    "grfe <- plot_hist(example |> select(exponential), \n",
    "                  label_x = \"exponential\", color=colors[1]) + font\n",
    "grfu <- plot_hist(example |> select(uniform), \n",
    "                  label_x = \"uniform\", color=colors[1]) + font  \n",
    "grfn <- plot_hist(example |> select(normal), \n",
    "                  label_x = \"normal\", color=colors[1]) + font "
   ]
  },
  {
   "cell_type": "code",
   "execution_count": 6,
   "metadata": {},
   "outputs": [
    {
     "name": "stderr",
     "output_type": "stream",
     "text": [
      "Loading required package: gridExtra\n",
      "\n",
      "\n",
      "Attaching package: ‘gridExtra’\n",
      "\n",
      "\n",
      "The following object is masked from ‘package:dplyr’:\n",
      "\n",
      "    combine\n",
      "\n",
      "\n"
     ]
    },
    {
     "data": {
      "image/png": "[encoded data removed]",
      "text/plain": [
       "plot without title"
      ]
     },
     "metadata": {
      "image/png": {
       "height": 240,
       "width": 900
      }
     },
     "output_type": "display_data"
    }
   ],
   "source": [
    "load_library(\"gridExtra\") \n",
    "\n",
    "options(repr.plot.width=15, repr.plot.height=4)\n",
    "grid.arrange(grfe, grfu, grfn, ncol=3)"
   ]
  },
  {
   "cell_type": "code",
   "execution_count": null,
   "metadata": {},
   "outputs": [],
   "source": []
  }
 ],
 "metadata": {
  "kernelspec": {
   "display_name": "R",
   "language": "R",
   "name": "ir"
  },
  "language_info": {
   "codemirror_mode": "r",
   "file_extension": ".r",
   "mimetype": "text/x-r-source",
   "name": "R",
   "pygments_lexer": "r",
   "version": "4.3.3"
  }
 },
 "nbformat": 4,
 "nbformat_minor": 4
}
