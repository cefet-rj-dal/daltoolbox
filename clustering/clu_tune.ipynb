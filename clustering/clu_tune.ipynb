{
 "cells": [
  {
   "cell_type": "markdown",
   "id": "7f59c457",
   "metadata": {},
   "source": [
    "# Clustering - Tune Kmeans"
   ]
  },
  {
   "cell_type": "code",
   "execution_count": 1,
   "id": "79802aaf",
   "metadata": {},
   "outputs": [
    {
     "name": "stderr",
     "output_type": "stream",
     "text": [
      "Loading required package: daltoolbox\n",
      "\n",
      "Registered S3 method overwritten by 'quantmod':\n",
      "  method            from\n",
      "  as.zoo.data.frame zoo \n",
      "\n",
      "\n",
      "Attaching package: ‘daltoolbox’\n",
      "\n",
      "\n",
      "The following object is masked from ‘package:base’:\n",
      "\n",
      "    transform\n",
      "\n",
      "\n"
     ]
    }
   ],
   "source": [
    "# DAL ToolBox\n",
    "# version 1.0.767\n",
    "\n",
    "source(\"https://raw.githubusercontent.com/cefet-rj-dal/daltoolbox/main/jupyter.R\")\n",
    "\n",
    "#loading DAL\n",
    "load_library(\"daltoolbox\")  "
   ]
  },
  {
   "cell_type": "code",
   "execution_count": 2,
   "id": "491accc9",
   "metadata": {},
   "outputs": [],
   "source": [
    "data(iris)"
   ]
  },
  {
   "cell_type": "code",
   "execution_count": 3,
   "id": "5a68275b",
   "metadata": {},
   "outputs": [
    {
     "data": {
      "text/html": [
       "10"
      ],
      "text/latex": [
       "10"
      ],
      "text/markdown": [
       "10"
      ],
      "text/plain": [
       "[1] 10"
      ]
     },
     "metadata": {},
     "output_type": "display_data"
    }
   ],
   "source": [
    "# fit model\n",
    "model <- clu_tune(cluster_kmeans(k = 0))\n",
    "ranges <- list(k = 1:10)\n",
    "model <- fit(model, iris[,1:4], ranges)\n",
    "model$k"
   ]
  },
  {
   "cell_type": "code",
   "execution_count": 4,
   "id": "2f978f15",
   "metadata": {},
   "outputs": [
    {
     "data": {
      "text/plain": [
       "clu\n",
       " 1  2  3  4  5  6  7  8  9 10 \n",
       " 5  7 22  9 18 17 21 12 21 18 "
      ]
     },
     "metadata": {},
     "output_type": "display_data"
    }
   ],
   "source": [
    "# run model\n",
    "clu <- cluster(model, iris[,1:4])\n",
    "table(clu)"
   ]
  },
  {
   "cell_type": "code",
   "execution_count": 5,
   "id": "04422e76",
   "metadata": {},
   "outputs": [
    {
     "data": {
      "text/html": [
       "<dl>\n",
       "\t<dt>$clusters_entropy</dt>\n",
       "\t\t<dd><table class=\"dataframe\">\n",
       "<caption>A tibble: 10 × 4</caption>\n",
       "<thead>\n",
       "\t<tr><th scope=col>x</th><th scope=col>ce</th><th scope=col>qtd</th><th scope=col>ceg</th></tr>\n",
       "\t<tr><th scope=col>&lt;fct&gt;</th><th scope=col>&lt;dbl&gt;</th><th scope=col>&lt;int&gt;</th><th scope=col>&lt;dbl&gt;</th></tr>\n",
       "</thead>\n",
       "<tbody>\n",
       "\t<tr><td>1 </td><td>0.0000000</td><td> 5</td><td>0.00000000</td></tr>\n",
       "\t<tr><td>2 </td><td>0.0000000</td><td> 7</td><td>0.00000000</td></tr>\n",
       "\t<tr><td>3 </td><td>0.0000000</td><td>22</td><td>0.00000000</td></tr>\n",
       "\t<tr><td>4 </td><td>0.0000000</td><td> 9</td><td>0.00000000</td></tr>\n",
       "\t<tr><td>5 </td><td>0.6500224</td><td>18</td><td>0.07800269</td></tr>\n",
       "\t<tr><td>6 </td><td>0.0000000</td><td>17</td><td>0.00000000</td></tr>\n",
       "\t<tr><td>7 </td><td>0.2761954</td><td>21</td><td>0.03866736</td></tr>\n",
       "\t<tr><td>8 </td><td>0.0000000</td><td>12</td><td>0.00000000</td></tr>\n",
       "\t<tr><td>9 </td><td>0.0000000</td><td>21</td><td>0.00000000</td></tr>\n",
       "\t<tr><td>10</td><td>0.0000000</td><td>18</td><td>0.00000000</td></tr>\n",
       "</tbody>\n",
       "</table>\n",
       "</dd>\n",
       "\t<dt>$clustering_entropy</dt>\n",
       "\t\t<dd>0.116670050468514</dd>\n",
       "\t<dt>$data_entropy</dt>\n",
       "\t\t<dd>1.58496250072116</dd>\n",
       "</dl>\n"
      ],
      "text/latex": [
       "\\begin{description}\n",
       "\\item[\\$clusters\\_entropy] A tibble: 10 × 4\n",
       "\\begin{tabular}{llll}\n",
       " x & ce & qtd & ceg\\\\\n",
       " <fct> & <dbl> & <int> & <dbl>\\\\\n",
       "\\hline\n",
       "\t 1  & 0.0000000 &  5 & 0.00000000\\\\\n",
       "\t 2  & 0.0000000 &  7 & 0.00000000\\\\\n",
       "\t 3  & 0.0000000 & 22 & 0.00000000\\\\\n",
       "\t 4  & 0.0000000 &  9 & 0.00000000\\\\\n",
       "\t 5  & 0.6500224 & 18 & 0.07800269\\\\\n",
       "\t 6  & 0.0000000 & 17 & 0.00000000\\\\\n",
       "\t 7  & 0.2761954 & 21 & 0.03866736\\\\\n",
       "\t 8  & 0.0000000 & 12 & 0.00000000\\\\\n",
       "\t 9  & 0.0000000 & 21 & 0.00000000\\\\\n",
       "\t 10 & 0.0000000 & 18 & 0.00000000\\\\\n",
       "\\end{tabular}\n",
       "\n",
       "\\item[\\$clustering\\_entropy] 0.116670050468514\n",
       "\\item[\\$data\\_entropy] 1.58496250072116\n",
       "\\end{description}\n"
      ],
      "text/markdown": [
       "$clusters_entropy\n",
       ":   \n",
       "A tibble: 10 × 4\n",
       "\n",
       "| x &lt;fct&gt; | ce &lt;dbl&gt; | qtd &lt;int&gt; | ceg &lt;dbl&gt; |\n",
       "|---|---|---|---|\n",
       "| 1  | 0.0000000 |  5 | 0.00000000 |\n",
       "| 2  | 0.0000000 |  7 | 0.00000000 |\n",
       "| 3  | 0.0000000 | 22 | 0.00000000 |\n",
       "| 4  | 0.0000000 |  9 | 0.00000000 |\n",
       "| 5  | 0.6500224 | 18 | 0.07800269 |\n",
       "| 6  | 0.0000000 | 17 | 0.00000000 |\n",
       "| 7  | 0.2761954 | 21 | 0.03866736 |\n",
       "| 8  | 0.0000000 | 12 | 0.00000000 |\n",
       "| 9  | 0.0000000 | 21 | 0.00000000 |\n",
       "| 10 | 0.0000000 | 18 | 0.00000000 |\n",
       "\n",
       "\n",
       "$clustering_entropy\n",
       ":   0.116670050468514\n",
       "$data_entropy\n",
       ":   1.58496250072116\n",
       "\n",
       "\n"
      ],
      "text/plain": [
       "$clusters_entropy\n",
       "\u001b[90m# A tibble: 10 × 4\u001b[39m\n",
       "   x        ce   qtd    ceg\n",
       "   \u001b[3m\u001b[90m<fct>\u001b[39m\u001b[23m \u001b[3m\u001b[90m<dbl>\u001b[39m\u001b[23m \u001b[3m\u001b[90m<int>\u001b[39m\u001b[23m  \u001b[3m\u001b[90m<dbl>\u001b[39m\u001b[23m\n",
       "\u001b[90m 1\u001b[39m 1     0         5 0     \n",
       "\u001b[90m 2\u001b[39m 2     0         7 0     \n",
       "\u001b[90m 3\u001b[39m 3     0        22 0     \n",
       "\u001b[90m 4\u001b[39m 4     0         9 0     \n",
       "\u001b[90m 5\u001b[39m 5     0.650    18 0.078\u001b[4m0\u001b[24m\n",
       "\u001b[90m 6\u001b[39m 6     0        17 0     \n",
       "\u001b[90m 7\u001b[39m 7     0.276    21 0.038\u001b[4m7\u001b[24m\n",
       "\u001b[90m 8\u001b[39m 8     0        12 0     \n",
       "\u001b[90m 9\u001b[39m 9     0        21 0     \n",
       "\u001b[90m10\u001b[39m 10    0        18 0     \n",
       "\n",
       "$clustering_entropy\n",
       "[1] 0.1166701\n",
       "\n",
       "$data_entropy\n",
       "[1] 1.584963\n"
      ]
     },
     "metadata": {},
     "output_type": "display_data"
    }
   ],
   "source": [
    "# evaluate model using external metric\n",
    "eval <- evaluate(model, clu, iris$Species)\n",
    "eval"
   ]
  }
 ],
 "metadata": {
  "kernelspec": {
   "display_name": "R",
   "language": "R",
   "name": "ir"
  },
  "language_info": {
   "codemirror_mode": "r",
   "file_extension": ".r",
   "mimetype": "text/x-r-source",
   "name": "R",
   "pygments_lexer": "r",
   "version": "4.3.3"
  }
 },
 "nbformat": 4,
 "nbformat_minor": 5
}
