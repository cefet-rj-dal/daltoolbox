{
 "cells": [
  {
   "cell_type": "markdown",
   "metadata": {},
   "source": [
    "## Autoencoder transformation (encode-decode)\n",
    "\n",
    "Considering a dataset with $p$ numerical attributes. \n",
    "\n",
    "The goal of the autoencoder is to reduce the dimension of $p$ to $k$, such that these $k$ attributes are enough to recompose the original $p$ attributes. However from the $k$ dimensionals the data is returned back to $p$ dimensions. The higher the quality of autoencoder the similiar is the output from the input. "
   ]
  },
  {
   "cell_type": "code",
   "execution_count": 1,
   "metadata": {},
   "outputs": [
    {
     "name": "stderr",
     "output_type": "stream",
     "text": [
      "Loading required package: usethis\n",
      "\n",
      "\u001b[1m\u001b[22m\u001b[36mℹ\u001b[39m Loading \u001b[34mdaltoolbox\u001b[39m\n",
      "Registered S3 method overwritten by 'quantmod':\n",
      "  method            from\n",
      "  as.zoo.data.frame zoo \n",
      "\n"
     ]
    }
   ],
   "source": [
    "# DAL ToolBox\n",
    "# version 1.0.777\n",
    "\n",
    "source(\"https://raw.githubusercontent.com/cefet-rj-dal/daltoolbox/main/jupyter.R\")\n",
    "\n",
    "#loading DAL\n",
    "load_library(\"daltoolbox\")"
   ]
  },
  {
   "cell_type": "markdown",
   "metadata": {},
   "source": [
    "### dataset for example "
   ]
  },
  {
   "cell_type": "code",
   "execution_count": 2,
   "metadata": {},
   "outputs": [
    {
     "data": {
      "text/html": [
       "<table class=\"dataframe\">\n",
       "<caption>A matrix: 6 × 5 of type dbl</caption>\n",
       "<thead>\n",
       "\t<tr><th scope=col>t4</th><th scope=col>t3</th><th scope=col>t2</th><th scope=col>t1</th><th scope=col>t0</th></tr>\n",
       "</thead>\n",
       "<tbody>\n",
       "\t<tr><td>0.0000000</td><td>0.2474040</td><td>0.4794255</td><td>0.6816388</td><td>0.8414710</td></tr>\n",
       "\t<tr><td>0.2474040</td><td>0.4794255</td><td>0.6816388</td><td>0.8414710</td><td>0.9489846</td></tr>\n",
       "\t<tr><td>0.4794255</td><td>0.6816388</td><td>0.8414710</td><td>0.9489846</td><td>0.9974950</td></tr>\n",
       "\t<tr><td>0.6816388</td><td>0.8414710</td><td>0.9489846</td><td>0.9974950</td><td>0.9839859</td></tr>\n",
       "\t<tr><td>0.8414710</td><td>0.9489846</td><td>0.9974950</td><td>0.9839859</td><td>0.9092974</td></tr>\n",
       "\t<tr><td>0.9489846</td><td>0.9974950</td><td>0.9839859</td><td>0.9092974</td><td>0.7780732</td></tr>\n",
       "</tbody>\n",
       "</table>\n"
      ],
      "text/latex": [
       "A matrix: 6 × 5 of type dbl\n",
       "\\begin{tabular}{lllll}\n",
       " t4 & t3 & t2 & t1 & t0\\\\\n",
       "\\hline\n",
       "\t 0.0000000 & 0.2474040 & 0.4794255 & 0.6816388 & 0.8414710\\\\\n",
       "\t 0.2474040 & 0.4794255 & 0.6816388 & 0.8414710 & 0.9489846\\\\\n",
       "\t 0.4794255 & 0.6816388 & 0.8414710 & 0.9489846 & 0.9974950\\\\\n",
       "\t 0.6816388 & 0.8414710 & 0.9489846 & 0.9974950 & 0.9839859\\\\\n",
       "\t 0.8414710 & 0.9489846 & 0.9974950 & 0.9839859 & 0.9092974\\\\\n",
       "\t 0.9489846 & 0.9974950 & 0.9839859 & 0.9092974 & 0.7780732\\\\\n",
       "\\end{tabular}\n"
      ],
      "text/markdown": [
       "\n",
       "A matrix: 6 × 5 of type dbl\n",
       "\n",
       "| t4 | t3 | t2 | t1 | t0 |\n",
       "|---|---|---|---|---|\n",
       "| 0.0000000 | 0.2474040 | 0.4794255 | 0.6816388 | 0.8414710 |\n",
       "| 0.2474040 | 0.4794255 | 0.6816388 | 0.8414710 | 0.9489846 |\n",
       "| 0.4794255 | 0.6816388 | 0.8414710 | 0.9489846 | 0.9974950 |\n",
       "| 0.6816388 | 0.8414710 | 0.9489846 | 0.9974950 | 0.9839859 |\n",
       "| 0.8414710 | 0.9489846 | 0.9974950 | 0.9839859 | 0.9092974 |\n",
       "| 0.9489846 | 0.9974950 | 0.9839859 | 0.9092974 | 0.7780732 |\n",
       "\n"
      ],
      "text/plain": [
       "     t4        t3        t2        t1        t0       \n",
       "[1,] 0.0000000 0.2474040 0.4794255 0.6816388 0.8414710\n",
       "[2,] 0.2474040 0.4794255 0.6816388 0.8414710 0.9489846\n",
       "[3,] 0.4794255 0.6816388 0.8414710 0.9489846 0.9974950\n",
       "[4,] 0.6816388 0.8414710 0.9489846 0.9974950 0.9839859\n",
       "[5,] 0.8414710 0.9489846 0.9974950 0.9839859 0.9092974\n",
       "[6,] 0.9489846 0.9974950 0.9839859 0.9092974 0.7780732"
      ]
     },
     "metadata": {},
     "output_type": "display_data"
    }
   ],
   "source": [
    "data(sin_data)\n",
    "\n",
    "sw_size <- 5\n",
    "ts <- ts_data(sin_data$y, sw_size)\n",
    "\n",
    "ts_head(ts)\n"
   ]
  },
  {
   "cell_type": "markdown",
   "metadata": {},
   "source": [
    "### applying data normalization"
   ]
  },
  {
   "cell_type": "code",
   "execution_count": 3,
   "metadata": {},
   "outputs": [
    {
     "data": {
      "text/html": [
       "<table class=\"dataframe\">\n",
       "<caption>A matrix: 6 × 5 of type dbl</caption>\n",
       "<thead>\n",
       "\t<tr><th scope=col>t4</th><th scope=col>t3</th><th scope=col>t2</th><th scope=col>t1</th><th scope=col>t0</th></tr>\n",
       "</thead>\n",
       "<tbody>\n",
       "\t<tr><td>0.5004502</td><td>0.6243512</td><td>0.7405486</td><td>0.8418178</td><td>0.9218625</td></tr>\n",
       "\t<tr><td>0.6243512</td><td>0.7405486</td><td>0.8418178</td><td>0.9218625</td><td>0.9757058</td></tr>\n",
       "\t<tr><td>0.7405486</td><td>0.8418178</td><td>0.9218625</td><td>0.9757058</td><td>1.0000000</td></tr>\n",
       "\t<tr><td>0.8418178</td><td>0.9218625</td><td>0.9757058</td><td>1.0000000</td><td>0.9932346</td></tr>\n",
       "\t<tr><td>0.9218625</td><td>0.9757058</td><td>1.0000000</td><td>0.9932346</td><td>0.9558303</td></tr>\n",
       "\t<tr><td>0.9757058</td><td>1.0000000</td><td>0.9932346</td><td>0.9558303</td><td>0.8901126</td></tr>\n",
       "</tbody>\n",
       "</table>\n"
      ],
      "text/latex": [
       "A matrix: 6 × 5 of type dbl\n",
       "\\begin{tabular}{lllll}\n",
       " t4 & t3 & t2 & t1 & t0\\\\\n",
       "\\hline\n",
       "\t 0.5004502 & 0.6243512 & 0.7405486 & 0.8418178 & 0.9218625\\\\\n",
       "\t 0.6243512 & 0.7405486 & 0.8418178 & 0.9218625 & 0.9757058\\\\\n",
       "\t 0.7405486 & 0.8418178 & 0.9218625 & 0.9757058 & 1.0000000\\\\\n",
       "\t 0.8418178 & 0.9218625 & 0.9757058 & 1.0000000 & 0.9932346\\\\\n",
       "\t 0.9218625 & 0.9757058 & 1.0000000 & 0.9932346 & 0.9558303\\\\\n",
       "\t 0.9757058 & 1.0000000 & 0.9932346 & 0.9558303 & 0.8901126\\\\\n",
       "\\end{tabular}\n"
      ],
      "text/markdown": [
       "\n",
       "A matrix: 6 × 5 of type dbl\n",
       "\n",
       "| t4 | t3 | t2 | t1 | t0 |\n",
       "|---|---|---|---|---|\n",
       "| 0.5004502 | 0.6243512 | 0.7405486 | 0.8418178 | 0.9218625 |\n",
       "| 0.6243512 | 0.7405486 | 0.8418178 | 0.9218625 | 0.9757058 |\n",
       "| 0.7405486 | 0.8418178 | 0.9218625 | 0.9757058 | 1.0000000 |\n",
       "| 0.8418178 | 0.9218625 | 0.9757058 | 1.0000000 | 0.9932346 |\n",
       "| 0.9218625 | 0.9757058 | 1.0000000 | 0.9932346 | 0.9558303 |\n",
       "| 0.9757058 | 1.0000000 | 0.9932346 | 0.9558303 | 0.8901126 |\n",
       "\n"
      ],
      "text/plain": [
       "     t4        t3        t2        t1        t0       \n",
       "[1,] 0.5004502 0.6243512 0.7405486 0.8418178 0.9218625\n",
       "[2,] 0.6243512 0.7405486 0.8418178 0.9218625 0.9757058\n",
       "[3,] 0.7405486 0.8418178 0.9218625 0.9757058 1.0000000\n",
       "[4,] 0.8418178 0.9218625 0.9757058 1.0000000 0.9932346\n",
       "[5,] 0.9218625 0.9757058 1.0000000 0.9932346 0.9558303\n",
       "[6,] 0.9757058 1.0000000 0.9932346 0.9558303 0.8901126"
      ]
     },
     "metadata": {},
     "output_type": "display_data"
    }
   ],
   "source": [
    "preproc <- ts_norm_gminmax()\n",
    "preproc <- fit(preproc, ts)\n",
    "ts <- transform(preproc, ts)\n",
    "\n",
    "ts_head(ts)"
   ]
  },
  {
   "cell_type": "markdown",
   "metadata": {},
   "source": [
    "### spliting into training and test"
   ]
  },
  {
   "cell_type": "code",
   "execution_count": 4,
   "metadata": {},
   "outputs": [],
   "source": [
    "samp <- ts_sample(ts, test_size = 10)\n",
    "train <- as.data.frame(samp$train)\n",
    "test <- as.data.frame(samp$test)"
   ]
  },
  {
   "cell_type": "markdown",
   "metadata": {},
   "source": [
    "### creating autoencoder\n",
    "Reduce from 5 to 3 dimensions"
   ]
  },
  {
   "cell_type": "code",
   "execution_count": 5,
   "metadata": {},
   "outputs": [
    {
     "name": "stdout",
     "output_type": "stream",
     "text": [
      "[1] \"test\"\n"
     ]
    }
   ],
   "source": [
    "auto <- lae_encode_decode(5, 3)\n",
    "\n",
    "auto <- fit(auto, train)"
   ]
  },
  {
   "cell_type": "markdown",
   "metadata": {},
   "source": [
    "### learning curves"
   ]
  },
  {
   "cell_type": "code",
   "execution_count": 6,
   "metadata": {},
   "outputs": [
    {
     "data": {
      "image/png": "[encoded data removed]",
      "text/plain": [
       "plot without title"
      ]
     },
     "metadata": {
      "image/png": {
       "height": 420,
       "width": 420
      }
     },
     "output_type": "display_data"
    }
   ],
   "source": [
    "train_loss <- unlist(auto$model$train_loss)\n",
    "val_loss <- unlist(auto$model$val_loss)\n",
    "\n",
    "fit_loss <- as.data.frame(cbind(train_loss, val_loss))\n",
    "fit_loss['epoch'] <- 1:nrow(fit_loss)\n",
    "\n",
    "ggplot(fit_loss, aes(x=epoch)) +\n",
    "geom_line(aes(y=train_loss, colour='Train Loss')) +\n",
    "geom_line(aes(y=val_loss, colour='Val Loss')) +\n",
    "scale_color_manual(values=c('Blue','Orange')) +\n",
    "theme_classic()"
   ]
  },
  {
   "cell_type": "markdown",
   "metadata": {},
   "source": [
    "### testing autoencoder\n",
    "presenting the original test set and display encoding"
   ]
  },
  {
   "cell_type": "code",
   "execution_count": 7,
   "metadata": {},
   "outputs": [
    {
     "name": "stdout",
     "output_type": "stream",
     "text": [
      "         t4        t3        t2        t1        t0\n",
      "1 0.7258342 0.8294719 0.9126527 0.9702046 0.9985496\n",
      "2 0.8294719 0.9126527 0.9702046 0.9985496 0.9959251\n",
      "3 0.9126527 0.9702046 0.9985496 0.9959251 0.9624944\n",
      "4 0.9702046 0.9985496 0.9959251 0.9624944 0.9003360\n",
      "5 0.9985496 0.9959251 0.9624944 0.9003360 0.8133146\n",
      "6 0.9959251 0.9624944 0.9003360 0.8133146 0.7068409\n",
      ", , 1\n",
      "\n",
      "          [,1]      [,2]      [,3]      [,4]      [,5]\n",
      "[1,] 0.8642118 0.8816411 0.9133202 0.8996596 0.8798590\n",
      "[2,] 0.8903502 0.9134628 0.9455664 0.9323511 0.9081378\n",
      "[3,] 0.8997744 0.9257431 0.9577073 0.9448304 0.9185855\n",
      "[4,] 0.8984035 0.9238048 0.9558468 0.9428402 0.9170064\n",
      "[5,] 0.8855818 0.9071056 0.9393403 0.9257566 0.9027644\n",
      "[6,] 0.8537533 0.8693659 0.9007271 0.8866507 0.8686001\n",
      "\n"
     ]
    }
   ],
   "source": [
    "print(head(test))\n",
    "result <- transform(auto, test)\n",
    "print(head(result))"
   ]
  },
  {
   "cell_type": "code",
   "execution_count": 8,
   "metadata": {},
   "outputs": [
    {
     "name": "stdout",
     "output_type": "stream",
     "text": [
      "[1] \"t4 R2 test: 0.321570298756313 MAPE: 0.174136564731752\"\n",
      "[1] \"t3 R2 test: 0.882251354650562 MAPE: 0.0953278085957994\"\n",
      "[1] \"t2 R2 test: 0.992100329994714 MAPE: 0.0163973945432771\"\n",
      "[1] \"t1 R2 test: 0.954825623645303 MAPE: 0.13797375638012\"\n",
      "[1] \"t0 R2 test: 0.881322046489125 MAPE: 0.315759095207381\"\n",
      "[1] \"Means R2 test: 0.806413930707203 MAPE: 0.147918923891666\"\n"
     ]
    }
   ],
   "source": [
    "result <- as.data.frame(result)\n",
    "names(result) <- names(test)\n",
    "r2 <- c()\n",
    "mape <- c()\n",
    "for (col in names(test)){\n",
    "r2_col <- cor(test[col], result[col])^2\n",
    "r2 <- append(r2, r2_col)\n",
    "mape_col <- mean((abs((result[col] - test[col]))/test[col])[[col]])\n",
    "mape <- append(mape, mape_col)\n",
    "print(paste(col, 'R2 test:', r2_col, 'MAPE:', mape_col))\n",
    "}\n",
    "print(paste('Means R2 test:', mean(r2), 'MAPE:', mean(mape)))"
   ]
  },
  {
   "cell_type": "code",
   "execution_count": null,
   "metadata": {},
   "outputs": [],
   "source": []
  }
 ],
 "metadata": {
  "kernelspec": {
   "display_name": "R",
   "language": "R",
   "name": "ir"
  },
  "language_info": {
   "codemirror_mode": "r",
   "file_extension": ".r",
   "mimetype": "text/x-r-source",
   "name": "R",
   "pygments_lexer": "r",
   "version": "4.4.2"
  }
 },
 "nbformat": 4,
 "nbformat_minor": 4
}
