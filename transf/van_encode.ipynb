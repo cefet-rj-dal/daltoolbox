{
 "cells": [
  {
   "cell_type": "markdown",
   "metadata": {},
   "source": [
    "## Autoencoder transformation (encode)\n",
    "\n",
    "Considering a dataset with $p$ numerical attributes. \n",
    "\n",
    "The goal of the autoencoder is to reduce the dimension of $p$ to $k$, such that these $k$ attributes are enough to recompose the original $p$ attributes. "
   ]
  },
  {
   "cell_type": "code",
   "execution_count": 1,
   "metadata": {},
   "outputs": [
    {
     "name": "stderr",
     "output_type": "stream",
     "text": [
      "Loading required package: usethis\n",
      "\n",
      "\u001b[1m\u001b[22m\u001b[36mℹ\u001b[39m Loading \u001b[34mdaltoolbox\u001b[39m\n",
      "Registered S3 method overwritten by 'quantmod':\n",
      "  method            from\n",
      "  as.zoo.data.frame zoo \n",
      "\n"
     ]
    }
   ],
   "source": [
    "# DAL ToolBox\n",
    "# version 1.0.777\n",
    "\n",
    "source(\"https://raw.githubusercontent.com/cefet-rj-dal/daltoolbox/main/jupyter.R\")\n",
    "\n",
    "#loading DAL\n",
    "load_library(\"daltoolbox\")"
   ]
  },
  {
   "cell_type": "markdown",
   "metadata": {},
   "source": [
    "### dataset for example "
   ]
  },
  {
   "cell_type": "code",
   "execution_count": 2,
   "metadata": {},
   "outputs": [
    {
     "data": {
      "text/html": [
       "<table class=\"dataframe\">\n",
       "<caption>A matrix: 6 × 5 of type dbl</caption>\n",
       "<thead>\n",
       "\t<tr><th scope=col>t4</th><th scope=col>t3</th><th scope=col>t2</th><th scope=col>t1</th><th scope=col>t0</th></tr>\n",
       "</thead>\n",
       "<tbody>\n",
       "\t<tr><td>0.0000000</td><td>0.2474040</td><td>0.4794255</td><td>0.6816388</td><td>0.8414710</td></tr>\n",
       "\t<tr><td>0.2474040</td><td>0.4794255</td><td>0.6816388</td><td>0.8414710</td><td>0.9489846</td></tr>\n",
       "\t<tr><td>0.4794255</td><td>0.6816388</td><td>0.8414710</td><td>0.9489846</td><td>0.9974950</td></tr>\n",
       "\t<tr><td>0.6816388</td><td>0.8414710</td><td>0.9489846</td><td>0.9974950</td><td>0.9839859</td></tr>\n",
       "\t<tr><td>0.8414710</td><td>0.9489846</td><td>0.9974950</td><td>0.9839859</td><td>0.9092974</td></tr>\n",
       "\t<tr><td>0.9489846</td><td>0.9974950</td><td>0.9839859</td><td>0.9092974</td><td>0.7780732</td></tr>\n",
       "</tbody>\n",
       "</table>\n"
      ],
      "text/latex": [
       "A matrix: 6 × 5 of type dbl\n",
       "\\begin{tabular}{lllll}\n",
       " t4 & t3 & t2 & t1 & t0\\\\\n",
       "\\hline\n",
       "\t 0.0000000 & 0.2474040 & 0.4794255 & 0.6816388 & 0.8414710\\\\\n",
       "\t 0.2474040 & 0.4794255 & 0.6816388 & 0.8414710 & 0.9489846\\\\\n",
       "\t 0.4794255 & 0.6816388 & 0.8414710 & 0.9489846 & 0.9974950\\\\\n",
       "\t 0.6816388 & 0.8414710 & 0.9489846 & 0.9974950 & 0.9839859\\\\\n",
       "\t 0.8414710 & 0.9489846 & 0.9974950 & 0.9839859 & 0.9092974\\\\\n",
       "\t 0.9489846 & 0.9974950 & 0.9839859 & 0.9092974 & 0.7780732\\\\\n",
       "\\end{tabular}\n"
      ],
      "text/markdown": [
       "\n",
       "A matrix: 6 × 5 of type dbl\n",
       "\n",
       "| t4 | t3 | t2 | t1 | t0 |\n",
       "|---|---|---|---|---|\n",
       "| 0.0000000 | 0.2474040 | 0.4794255 | 0.6816388 | 0.8414710 |\n",
       "| 0.2474040 | 0.4794255 | 0.6816388 | 0.8414710 | 0.9489846 |\n",
       "| 0.4794255 | 0.6816388 | 0.8414710 | 0.9489846 | 0.9974950 |\n",
       "| 0.6816388 | 0.8414710 | 0.9489846 | 0.9974950 | 0.9839859 |\n",
       "| 0.8414710 | 0.9489846 | 0.9974950 | 0.9839859 | 0.9092974 |\n",
       "| 0.9489846 | 0.9974950 | 0.9839859 | 0.9092974 | 0.7780732 |\n",
       "\n"
      ],
      "text/plain": [
       "     t4        t3        t2        t1        t0       \n",
       "[1,] 0.0000000 0.2474040 0.4794255 0.6816388 0.8414710\n",
       "[2,] 0.2474040 0.4794255 0.6816388 0.8414710 0.9489846\n",
       "[3,] 0.4794255 0.6816388 0.8414710 0.9489846 0.9974950\n",
       "[4,] 0.6816388 0.8414710 0.9489846 0.9974950 0.9839859\n",
       "[5,] 0.8414710 0.9489846 0.9974950 0.9839859 0.9092974\n",
       "[6,] 0.9489846 0.9974950 0.9839859 0.9092974 0.7780732"
      ]
     },
     "metadata": {},
     "output_type": "display_data"
    }
   ],
   "source": [
    "data(sin_data)\n",
    "\n",
    "sw_size <- 5\n",
    "ts <- ts_data(sin_data$y, sw_size)\n",
    "\n",
    "ts_head(ts)\n"
   ]
  },
  {
   "cell_type": "markdown",
   "metadata": {},
   "source": [
    "### applying data normalization"
   ]
  },
  {
   "cell_type": "code",
   "execution_count": 3,
   "metadata": {},
   "outputs": [
    {
     "data": {
      "text/html": [
       "<table class=\"dataframe\">\n",
       "<caption>A matrix: 6 × 5 of type dbl</caption>\n",
       "<thead>\n",
       "\t<tr><th scope=col>t4</th><th scope=col>t3</th><th scope=col>t2</th><th scope=col>t1</th><th scope=col>t0</th></tr>\n",
       "</thead>\n",
       "<tbody>\n",
       "\t<tr><td>0.5004502</td><td>0.6243512</td><td>0.7405486</td><td>0.8418178</td><td>0.9218625</td></tr>\n",
       "\t<tr><td>0.6243512</td><td>0.7405486</td><td>0.8418178</td><td>0.9218625</td><td>0.9757058</td></tr>\n",
       "\t<tr><td>0.7405486</td><td>0.8418178</td><td>0.9218625</td><td>0.9757058</td><td>1.0000000</td></tr>\n",
       "\t<tr><td>0.8418178</td><td>0.9218625</td><td>0.9757058</td><td>1.0000000</td><td>0.9932346</td></tr>\n",
       "\t<tr><td>0.9218625</td><td>0.9757058</td><td>1.0000000</td><td>0.9932346</td><td>0.9558303</td></tr>\n",
       "\t<tr><td>0.9757058</td><td>1.0000000</td><td>0.9932346</td><td>0.9558303</td><td>0.8901126</td></tr>\n",
       "</tbody>\n",
       "</table>\n"
      ],
      "text/latex": [
       "A matrix: 6 × 5 of type dbl\n",
       "\\begin{tabular}{lllll}\n",
       " t4 & t3 & t2 & t1 & t0\\\\\n",
       "\\hline\n",
       "\t 0.5004502 & 0.6243512 & 0.7405486 & 0.8418178 & 0.9218625\\\\\n",
       "\t 0.6243512 & 0.7405486 & 0.8418178 & 0.9218625 & 0.9757058\\\\\n",
       "\t 0.7405486 & 0.8418178 & 0.9218625 & 0.9757058 & 1.0000000\\\\\n",
       "\t 0.8418178 & 0.9218625 & 0.9757058 & 1.0000000 & 0.9932346\\\\\n",
       "\t 0.9218625 & 0.9757058 & 1.0000000 & 0.9932346 & 0.9558303\\\\\n",
       "\t 0.9757058 & 1.0000000 & 0.9932346 & 0.9558303 & 0.8901126\\\\\n",
       "\\end{tabular}\n"
      ],
      "text/markdown": [
       "\n",
       "A matrix: 6 × 5 of type dbl\n",
       "\n",
       "| t4 | t3 | t2 | t1 | t0 |\n",
       "|---|---|---|---|---|\n",
       "| 0.5004502 | 0.6243512 | 0.7405486 | 0.8418178 | 0.9218625 |\n",
       "| 0.6243512 | 0.7405486 | 0.8418178 | 0.9218625 | 0.9757058 |\n",
       "| 0.7405486 | 0.8418178 | 0.9218625 | 0.9757058 | 1.0000000 |\n",
       "| 0.8418178 | 0.9218625 | 0.9757058 | 1.0000000 | 0.9932346 |\n",
       "| 0.9218625 | 0.9757058 | 1.0000000 | 0.9932346 | 0.9558303 |\n",
       "| 0.9757058 | 1.0000000 | 0.9932346 | 0.9558303 | 0.8901126 |\n",
       "\n"
      ],
      "text/plain": [
       "     t4        t3        t2        t1        t0       \n",
       "[1,] 0.5004502 0.6243512 0.7405486 0.8418178 0.9218625\n",
       "[2,] 0.6243512 0.7405486 0.8418178 0.9218625 0.9757058\n",
       "[3,] 0.7405486 0.8418178 0.9218625 0.9757058 1.0000000\n",
       "[4,] 0.8418178 0.9218625 0.9757058 1.0000000 0.9932346\n",
       "[5,] 0.9218625 0.9757058 1.0000000 0.9932346 0.9558303\n",
       "[6,] 0.9757058 1.0000000 0.9932346 0.9558303 0.8901126"
      ]
     },
     "metadata": {},
     "output_type": "display_data"
    }
   ],
   "source": [
    "preproc <- ts_norm_gminmax()\n",
    "preproc <- fit(preproc, ts)\n",
    "ts <- transform(preproc, ts)\n",
    "\n",
    "ts_head(ts)"
   ]
  },
  {
   "cell_type": "markdown",
   "metadata": {},
   "source": [
    "### spliting into training and test"
   ]
  },
  {
   "cell_type": "code",
   "execution_count": 4,
   "metadata": {},
   "outputs": [],
   "source": [
    "samp <- ts_sample(ts, test_size = 10)\n",
    "train <- as.data.frame(samp$train)\n",
    "test <- as.data.frame(samp$test)"
   ]
  },
  {
   "cell_type": "markdown",
   "metadata": {},
   "source": [
    "### creating autoencoder\n",
    "Reduce from 5 to 3 dimensions"
   ]
  },
  {
   "cell_type": "code",
   "execution_count": 5,
   "metadata": {},
   "outputs": [],
   "source": [
    "auto <- autoenc_encode(5, 3)\n",
    "\n",
    "auto <- fit(auto, train)"
   ]
  },
  {
   "cell_type": "markdown",
   "metadata": {},
   "source": [
    "### learning curves"
   ]
  },
  {
   "cell_type": "code",
   "execution_count": 6,
   "metadata": {},
   "outputs": [
    {
     "data": {
      "image/png": "[encoded data removed]",
      "text/plain": [
       "plot without title"
      ]
     },
     "metadata": {
      "image/png": {
       "height": 420,
       "width": 420
      }
     },
     "output_type": "display_data"
    }
   ],
   "source": [
    "train_loss <- unlist(auto$model$train_loss)\n",
    "val_loss <- unlist(auto$model$val_loss)\n",
    "\n",
    "fit_loss <- as.data.frame(cbind(train_loss, val_loss))\n",
    "fit_loss['epoch'] <- 1:nrow(fit_loss)\n",
    "\n",
    "ggplot(fit_loss, aes(x=epoch)) +\n",
    "geom_line(aes(y=train_loss, colour='Train Loss')) +\n",
    "geom_line(aes(y=val_loss, colour='Val Loss')) +\n",
    "scale_color_manual(values=c('Blue','Orange')) +\n",
    "theme_classic()"
   ]
  },
  {
   "cell_type": "markdown",
   "metadata": {},
   "source": [
    "### testing autoencoder\n",
    "presenting the original test set and display encoding"
   ]
  },
  {
   "cell_type": "code",
   "execution_count": 7,
   "metadata": {},
   "outputs": [
    {
     "name": "stdout",
     "output_type": "stream",
     "text": [
      "         t4        t3        t2        t1        t0\n",
      "1 0.7258342 0.8294719 0.9126527 0.9702046 0.9985496\n",
      "2 0.8294719 0.9126527 0.9702046 0.9985496 0.9959251\n",
      "3 0.9126527 0.9702046 0.9985496 0.9959251 0.9624944\n",
      "4 0.9702046 0.9985496 0.9959251 0.9624944 0.9003360\n",
      "5 0.9985496 0.9959251 0.9624944 0.9003360 0.8133146\n",
      "6 0.9959251 0.9624944 0.9003360 0.8133146 0.7068409\n",
      "         [,1]      [,2]       [,3]\n",
      "[1,] 1.537791 -1.325498 -0.5041361\n",
      "[2,] 1.664061 -1.344010 -0.4931393\n",
      "[3,] 1.743862 -1.320554 -0.4742562\n",
      "[4,] 1.772082 -1.253520 -0.4487348\n",
      "[5,] 1.745781 -1.141934 -0.4188688\n",
      "[6,] 1.669430 -0.999868 -0.3847930\n"
     ]
    }
   ],
   "source": [
    "print(head(test))\n",
    "result <- transform(auto, test)\n",
    "print(head(result))"
   ]
  },
  {
   "cell_type": "code",
   "execution_count": null,
   "metadata": {},
   "outputs": [],
   "source": []
  }
 ],
 "metadata": {
  "kernelspec": {
   "display_name": "R",
   "language": "R",
   "name": "ir"
  },
  "language_info": {
   "codemirror_mode": "r",
   "file_extension": ".r",
   "mimetype": "text/x-r-source",
   "name": "R",
   "pygments_lexer": "r",
   "version": "4.4.2"
  }
 },
 "nbformat": 4,
 "nbformat_minor": 4
}
