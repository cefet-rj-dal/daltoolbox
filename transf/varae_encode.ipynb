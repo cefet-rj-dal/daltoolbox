{
 "cells": [
  {
   "cell_type": "markdown",
   "metadata": {},
   "source": [
    "## Variational Autoencoder transformation (encode)\n",
    "\n",
    "Considering a dataset with $p$ numerical attributes. \n",
    "\n",
    "The goal of the autoencoder is to reduce the dimension of $p$ to $k$, such that these $k$ attributes are enough to recompose the original $p$ attributes. "
   ]
  },
  {
   "cell_type": "code",
   "execution_count": 1,
   "metadata": {},
   "outputs": [
    {
     "name": "stderr",
     "output_type": "stream",
     "text": [
      "Loading required package: daltoolbox\n",
      "\n",
      "Registered S3 method overwritten by 'quantmod':\n",
      "  method            from\n",
      "  as.zoo.data.frame zoo \n",
      "\n",
      "\n",
      "Attaching package: ‘daltoolbox’\n",
      "\n",
      "\n",
      "The following object is masked from ‘package:base’:\n",
      "\n",
      "    transform\n",
      "\n",
      "\n"
     ]
    }
   ],
   "source": [
    "# DAL ToolBox\n",
    "# version 1.01.727\n",
    "\n",
    "source(\"https://raw.githubusercontent.com/cefet-rj-dal/daltoolbox/main/jupyter.R\")\n",
    "\n",
    "#loading DAL\n",
    "load_library(\"daltoolbox\")"
   ]
  },
  {
   "cell_type": "markdown",
   "metadata": {},
   "source": [
    "### dataset for example "
   ]
  },
  {
   "cell_type": "code",
   "execution_count": 2,
   "metadata": {},
   "outputs": [
    {
     "data": {
      "text/html": [
       "<table class=\"dataframe\">\n",
       "<caption>A matrix: 6 × 5 of type dbl</caption>\n",
       "<thead>\n",
       "\t<tr><th scope=col>t4</th><th scope=col>t3</th><th scope=col>t2</th><th scope=col>t1</th><th scope=col>t0</th></tr>\n",
       "</thead>\n",
       "<tbody>\n",
       "\t<tr><td>0.0000000</td><td>0.2474040</td><td>0.4794255</td><td>0.6816388</td><td>0.8414710</td></tr>\n",
       "\t<tr><td>0.2474040</td><td>0.4794255</td><td>0.6816388</td><td>0.8414710</td><td>0.9489846</td></tr>\n",
       "\t<tr><td>0.4794255</td><td>0.6816388</td><td>0.8414710</td><td>0.9489846</td><td>0.9974950</td></tr>\n",
       "\t<tr><td>0.6816388</td><td>0.8414710</td><td>0.9489846</td><td>0.9974950</td><td>0.9839859</td></tr>\n",
       "\t<tr><td>0.8414710</td><td>0.9489846</td><td>0.9974950</td><td>0.9839859</td><td>0.9092974</td></tr>\n",
       "\t<tr><td>0.9489846</td><td>0.9974950</td><td>0.9839859</td><td>0.9092974</td><td>0.7780732</td></tr>\n",
       "</tbody>\n",
       "</table>\n"
      ],
      "text/latex": [
       "A matrix: 6 × 5 of type dbl\n",
       "\\begin{tabular}{lllll}\n",
       " t4 & t3 & t2 & t1 & t0\\\\\n",
       "\\hline\n",
       "\t 0.0000000 & 0.2474040 & 0.4794255 & 0.6816388 & 0.8414710\\\\\n",
       "\t 0.2474040 & 0.4794255 & 0.6816388 & 0.8414710 & 0.9489846\\\\\n",
       "\t 0.4794255 & 0.6816388 & 0.8414710 & 0.9489846 & 0.9974950\\\\\n",
       "\t 0.6816388 & 0.8414710 & 0.9489846 & 0.9974950 & 0.9839859\\\\\n",
       "\t 0.8414710 & 0.9489846 & 0.9974950 & 0.9839859 & 0.9092974\\\\\n",
       "\t 0.9489846 & 0.9974950 & 0.9839859 & 0.9092974 & 0.7780732\\\\\n",
       "\\end{tabular}\n"
      ],
      "text/markdown": [
       "\n",
       "A matrix: 6 × 5 of type dbl\n",
       "\n",
       "| t4 | t3 | t2 | t1 | t0 |\n",
       "|---|---|---|---|---|\n",
       "| 0.0000000 | 0.2474040 | 0.4794255 | 0.6816388 | 0.8414710 |\n",
       "| 0.2474040 | 0.4794255 | 0.6816388 | 0.8414710 | 0.9489846 |\n",
       "| 0.4794255 | 0.6816388 | 0.8414710 | 0.9489846 | 0.9974950 |\n",
       "| 0.6816388 | 0.8414710 | 0.9489846 | 0.9974950 | 0.9839859 |\n",
       "| 0.8414710 | 0.9489846 | 0.9974950 | 0.9839859 | 0.9092974 |\n",
       "| 0.9489846 | 0.9974950 | 0.9839859 | 0.9092974 | 0.7780732 |\n",
       "\n"
      ],
      "text/plain": [
       "     t4        t3        t2        t1        t0       \n",
       "[1,] 0.0000000 0.2474040 0.4794255 0.6816388 0.8414710\n",
       "[2,] 0.2474040 0.4794255 0.6816388 0.8414710 0.9489846\n",
       "[3,] 0.4794255 0.6816388 0.8414710 0.9489846 0.9974950\n",
       "[4,] 0.6816388 0.8414710 0.9489846 0.9974950 0.9839859\n",
       "[5,] 0.8414710 0.9489846 0.9974950 0.9839859 0.9092974\n",
       "[6,] 0.9489846 0.9974950 0.9839859 0.9092974 0.7780732"
      ]
     },
     "metadata": {},
     "output_type": "display_data"
    }
   ],
   "source": [
    "data(sin_data)\n",
    "\n",
    "sw_size <- 5\n",
    "ts <- ts_data(sin_data$y, sw_size)\n",
    "\n",
    "ts_head(ts)\n"
   ]
  },
  {
   "cell_type": "markdown",
   "metadata": {},
   "source": [
    "### applying data normalization"
   ]
  },
  {
   "cell_type": "code",
   "execution_count": 3,
   "metadata": {},
   "outputs": [
    {
     "data": {
      "text/html": [
       "<table class=\"dataframe\">\n",
       "<caption>A matrix: 6 × 5 of type dbl</caption>\n",
       "<thead>\n",
       "\t<tr><th scope=col>t4</th><th scope=col>t3</th><th scope=col>t2</th><th scope=col>t1</th><th scope=col>t0</th></tr>\n",
       "</thead>\n",
       "<tbody>\n",
       "\t<tr><td>0.5004502</td><td>0.6243512</td><td>0.7405486</td><td>0.8418178</td><td>0.9218625</td></tr>\n",
       "\t<tr><td>0.6243512</td><td>0.7405486</td><td>0.8418178</td><td>0.9218625</td><td>0.9757058</td></tr>\n",
       "\t<tr><td>0.7405486</td><td>0.8418178</td><td>0.9218625</td><td>0.9757058</td><td>1.0000000</td></tr>\n",
       "\t<tr><td>0.8418178</td><td>0.9218625</td><td>0.9757058</td><td>1.0000000</td><td>0.9932346</td></tr>\n",
       "\t<tr><td>0.9218625</td><td>0.9757058</td><td>1.0000000</td><td>0.9932346</td><td>0.9558303</td></tr>\n",
       "\t<tr><td>0.9757058</td><td>1.0000000</td><td>0.9932346</td><td>0.9558303</td><td>0.8901126</td></tr>\n",
       "</tbody>\n",
       "</table>\n"
      ],
      "text/latex": [
       "A matrix: 6 × 5 of type dbl\n",
       "\\begin{tabular}{lllll}\n",
       " t4 & t3 & t2 & t1 & t0\\\\\n",
       "\\hline\n",
       "\t 0.5004502 & 0.6243512 & 0.7405486 & 0.8418178 & 0.9218625\\\\\n",
       "\t 0.6243512 & 0.7405486 & 0.8418178 & 0.9218625 & 0.9757058\\\\\n",
       "\t 0.7405486 & 0.8418178 & 0.9218625 & 0.9757058 & 1.0000000\\\\\n",
       "\t 0.8418178 & 0.9218625 & 0.9757058 & 1.0000000 & 0.9932346\\\\\n",
       "\t 0.9218625 & 0.9757058 & 1.0000000 & 0.9932346 & 0.9558303\\\\\n",
       "\t 0.9757058 & 1.0000000 & 0.9932346 & 0.9558303 & 0.8901126\\\\\n",
       "\\end{tabular}\n"
      ],
      "text/markdown": [
       "\n",
       "A matrix: 6 × 5 of type dbl\n",
       "\n",
       "| t4 | t3 | t2 | t1 | t0 |\n",
       "|---|---|---|---|---|\n",
       "| 0.5004502 | 0.6243512 | 0.7405486 | 0.8418178 | 0.9218625 |\n",
       "| 0.6243512 | 0.7405486 | 0.8418178 | 0.9218625 | 0.9757058 |\n",
       "| 0.7405486 | 0.8418178 | 0.9218625 | 0.9757058 | 1.0000000 |\n",
       "| 0.8418178 | 0.9218625 | 0.9757058 | 1.0000000 | 0.9932346 |\n",
       "| 0.9218625 | 0.9757058 | 1.0000000 | 0.9932346 | 0.9558303 |\n",
       "| 0.9757058 | 1.0000000 | 0.9932346 | 0.9558303 | 0.8901126 |\n",
       "\n"
      ],
      "text/plain": [
       "     t4        t3        t2        t1        t0       \n",
       "[1,] 0.5004502 0.6243512 0.7405486 0.8418178 0.9218625\n",
       "[2,] 0.6243512 0.7405486 0.8418178 0.9218625 0.9757058\n",
       "[3,] 0.7405486 0.8418178 0.9218625 0.9757058 1.0000000\n",
       "[4,] 0.8418178 0.9218625 0.9757058 1.0000000 0.9932346\n",
       "[5,] 0.9218625 0.9757058 1.0000000 0.9932346 0.9558303\n",
       "[6,] 0.9757058 1.0000000 0.9932346 0.9558303 0.8901126"
      ]
     },
     "metadata": {},
     "output_type": "display_data"
    }
   ],
   "source": [
    "preproc <- ts_norm_gminmax()\n",
    "preproc <- fit(preproc, ts)\n",
    "ts <- transform(preproc, ts)\n",
    "\n",
    "ts_head(ts)"
   ]
  },
  {
   "cell_type": "markdown",
   "metadata": {},
   "source": [
    "### spliting into training and test"
   ]
  },
  {
   "cell_type": "code",
   "execution_count": 4,
   "metadata": {},
   "outputs": [],
   "source": [
    "samp <- ts_sample(ts, test_size = 10)\n",
    "train <- as.data.frame(samp$train)\n",
    "test <- as.data.frame(samp$test)"
   ]
  },
  {
   "cell_type": "markdown",
   "metadata": {},
   "source": [
    "### creating autoencoder\n",
    "Reduce from 5 to 3 dimensions"
   ]
  },
  {
   "cell_type": "code",
   "execution_count": 5,
   "metadata": {},
   "outputs": [],
   "source": [
    "auto <- varae_encode(5, 3)\n",
    "\n",
    "auto <- fit(auto, train)"
   ]
  },
  {
   "cell_type": "markdown",
   "metadata": {},
   "source": [
    "### testing autoencoder\n",
    "presenting the original test set and display encoding"
   ]
  },
  {
   "cell_type": "code",
   "execution_count": 6,
   "metadata": {},
   "outputs": [
    {
     "name": "stdout",
     "output_type": "stream",
     "text": [
      "         t4        t3        t2        t1        t0\n",
      "1 0.7258342 0.8294719 0.9126527 0.9702046 0.9985496\n",
      "2 0.8294719 0.9126527 0.9702046 0.9985496 0.9959251\n",
      "3 0.9126527 0.9702046 0.9985496 0.9959251 0.9624944\n",
      "4 0.9702046 0.9985496 0.9959251 0.9624944 0.9003360\n",
      "5 0.9985496 0.9959251 0.9624944 0.9003360 0.8133146\n",
      "6 0.9959251 0.9624944 0.9003360 0.8133146 0.7068409\n",
      "           [,1]        [,2]       [,3]          [,4]        [,5]       [,6]\n",
      "[1,] 0.08681874 -0.05641818 0.04673097  1.106817e-02 -0.02809799 -0.1199765\n",
      "[2,] 0.10727976 -0.06062627 0.05521997  5.878299e-03 -0.04173535 -0.1447777\n",
      "[3,] 0.12113945 -0.06083238 0.06039035 -3.778934e-05 -0.05296028 -0.1603010\n",
      "[4,] 0.11859432 -0.06172132 0.05973667  1.768172e-03 -0.05004382 -0.1578290\n",
      "[5,] 0.10643211 -0.05971962 0.05491093  5.161047e-03 -0.04137257 -0.1432461\n",
      "[6,] 0.08636133 -0.05444539 0.04644454  9.063631e-03 -0.02866486 -0.1182816\n",
      "              [,7]        [,8]          [,9]       [,10]       [,11]\n",
      "[1,]  0.0022768378 0.000899598  1.259297e-04 -0.01960601 0.009236671\n",
      "[2,]  0.0003768653 0.003783539 -2.457783e-03 -0.02027556 0.012261964\n",
      "[3,] -0.0014002174 0.006474540 -4.817545e-03 -0.01937643 0.014828607\n",
      "[4,] -0.0009000301 0.005795047 -4.089363e-03 -0.02009867 0.014099821\n",
      "[5,]  0.0003244132 0.004028946 -2.341360e-03 -0.02005550 0.012112811\n",
      "[6,]  0.0019782037 0.001608357  2.706796e-05 -0.01891287 0.009277344\n",
      "             [,12]\n",
      "[1,] -1.016892e-03\n",
      "[2,] -2.636984e-04\n",
      "[3,]  4.922077e-04\n",
      "[4,]  3.825203e-04\n",
      "[5,]  2.620369e-05\n",
      "[6,] -4.665181e-04\n"
     ]
    }
   ],
   "source": [
    "print(head(test))\n",
    "result <- transform(auto, test)\n",
    "print(head(result))"
   ]
  },
  {
   "cell_type": "code",
   "execution_count": null,
   "metadata": {},
   "outputs": [],
   "source": []
  }
 ],
 "metadata": {
  "kernelspec": {
   "display_name": "R",
   "language": "R",
   "name": "ir"
  },
  "language_info": {
   "codemirror_mode": "r",
   "file_extension": ".r",
   "mimetype": "text/x-r-source",
   "name": "R",
   "pygments_lexer": "r",
   "version": "4.4.2"
  }
 },
 "nbformat": 4,
 "nbformat_minor": 4
}
